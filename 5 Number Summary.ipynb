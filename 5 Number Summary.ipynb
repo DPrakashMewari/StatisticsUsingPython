{
 "cells": [
  {
   "cell_type": "code",
   "execution_count": 21,
   "id": "d9ace7de",
   "metadata": {},
   "outputs": [],
   "source": [
    "# 5 Number Summary\n",
    "import numpy as np\n",
    "import matplotlib.pyplot as plt"
   ]
  },
  {
   "cell_type": "code",
   "execution_count": 14,
   "id": "506d95ed",
   "metadata": {},
   "outputs": [
    {
     "data": {
      "text/plain": [
       "[1, 2, 5, 6, 7, 9, 12, 15, 18, 19, 27]"
      ]
     },
     "execution_count": 14,
     "metadata": {},
     "output_type": "execute_result"
    }
   ],
   "source": [
    "data = [1, 2, 5, 6, 7, 9, 12, 15, 18, 19, 27]\n",
    "data = sorted(data)\n",
    "data"
   ]
  },
  {
   "cell_type": "code",
   "execution_count": 15,
   "id": "7868a367",
   "metadata": {},
   "outputs": [
    {
     "data": {
      "text/plain": [
       "27"
      ]
     },
     "execution_count": 15,
     "metadata": {},
     "output_type": "execute_result"
    }
   ],
   "source": [
    "min(data)\n",
    "max(data)"
   ]
  },
  {
   "cell_type": "code",
   "execution_count": 33,
   "id": "79e7a467",
   "metadata": {},
   "outputs": [
    {
     "data": {
      "text/plain": [
       "16.5"
      ]
     },
     "execution_count": 33,
     "metadata": {},
     "output_type": "execute_result"
    }
   ],
   "source": [
    "q1 = np.percentile(data,25)\n",
    "q1\n",
    "q3 = np.percentile(data,75)\n",
    "q3"
   ]
  },
  {
   "cell_type": "code",
   "execution_count": 34,
   "id": "5128f454",
   "metadata": {},
   "outputs": [
    {
     "name": "stdout",
     "output_type": "stream",
     "text": [
      "..5 Number Summary..\n",
      "\n",
      "Minimum Number 1\n",
      "25 Percentile 5.5\n",
      "Median Value 9.0\n",
      "75 Percentile Value 16.5\n",
      "Maximum Number 27\n"
     ]
    }
   ],
   "source": [
    "print(\"..5 Number Summary..\")\n",
    "print()\n",
    "print(\"Minimum Number\",min(data))\n",
    "print(\"25 Percentile\",q1)\n",
    "print(\"Median Value\",np.median(data))\n",
    "print(\"75 Percentile Value\",q3)\n",
    "print(\"Maximum Number\",max(data))"
   ]
  },
  {
   "cell_type": "code",
   "execution_count": 37,
   "id": "3cb4ff23",
   "metadata": {},
   "outputs": [
    {
     "name": "stdout",
     "output_type": "stream",
     "text": [
      "..5 Number Summary..\n",
      "Sorting.. [1, 4, 12, 23, 23, 54]\n",
      "\n",
      "Minimum Number 1\n",
      "25 Percentile 6.0\n",
      "Median Value 17.5\n",
      "75 Percentile Value 23.0\n",
      "Maximum Number 54\n"
     ]
    }
   ],
   "source": [
    "def five_nsum(data):\n",
    "    print(\"..5 Number Summary..\")\n",
    "    print(\"Sorting..\",sorted(data))\n",
    "    print()\n",
    "    print(\"Minimum Number\",min(data))\n",
    "    print(\"25 Percentile\",np.percentile(data,25))\n",
    "    print(\"Median Value\",np.median(data))\n",
    "    print(\"75 Percentile Value\",np.percentile(data,75))\n",
    "    print(\"Maximum Number\",max(data))\n",
    "\n",
    "five_nsum([1,23,4,54,23,12])"
   ]
  }
 ],
 "metadata": {
  "kernelspec": {
   "display_name": "Python 3",
   "language": "python",
   "name": "python3"
  },
  "language_info": {
   "codemirror_mode": {
    "name": "ipython",
    "version": 3
   },
   "file_extension": ".py",
   "mimetype": "text/x-python",
   "name": "python",
   "nbconvert_exporter": "python",
   "pygments_lexer": "ipython3",
   "version": "3.8.10"
  }
 },
 "nbformat": 4,
 "nbformat_minor": 5
}
