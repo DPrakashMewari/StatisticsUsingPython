{
 "cells": [
  {
   "cell_type": "code",
   "execution_count": null,
   "id": "ffa3b437",
   "metadata": {},
   "outputs": [],
   "source": [
    "# Central Limit Theoram Specifies \n",
    "#  Random variable follow or not Gaussian Distribution\n",
    "# It is also specifies The sample mean will approximately be normally \n",
    "# distributed for large sample sizes\n",
    "\n"
   ]
  },
  {
   "cell_type": "code",
   "execution_count": 2,
   "id": "fa09083e",
   "metadata": {},
   "outputs": [
    {
     "name": "stdout",
     "output_type": "stream",
     "text": [
      "Population mean: 4.0\n",
      "Population standard deviation: 4.0\n"
     ]
    }
   ],
   "source": [
    "# Suppose we a data which is exponetial Distributed\n",
    "\n",
    "import pandas as pd , numpy as np \n",
    "import seaborn as sns , matplotlib.pyplot as plt\n",
    "\n",
    "# rate parameter for the exponentially distributed population\n",
    "rate = 0.25\n",
    "\n",
    "#Population mean\n",
    "mu = 1/rate\n",
    "\n",
    "# Population standard deviation\n",
    "sd = np.sqrt(1/(rate**2))\n",
    "\n",
    "print('Population mean:', mu)\n",
    "print('Population standard deviation:', sd)\n"
   ]
  },
  {
   "cell_type": "code",
   "execution_count": 15,
   "id": "73c4438f",
   "metadata": {},
   "outputs": [
    {
     "name": "stderr",
     "output_type": "stream",
     "text": [
      "/home/mewaris/.local/lib/python3.8/site-packages/seaborn/distributions.py:2557: FutureWarning: `distplot` is a deprecated function and will be removed in a future version. Please adapt your code to use either `displot` (a figure-level function with similar flexibility) or `histplot` (an axes-level function for histograms).\n",
      "  warnings.warn(msg, FutureWarning)\n"
     ]
    },
    {
     "data": {
      "image/png": "[encoded data removed]",
      "text/plain": [
       "<Figure size 432x288 with 1 Axes>"
      ]
     },
     "metadata": {
      "needs_background": "light"
     },
     "output_type": "display_data"
    }
   ],
   "source": [
    "# Drawing 50 Random sample \n",
    "\n",
    "# Sample size\n",
    "sample_size = 2000\n",
    "df2 = pd.DataFrame()\n",
    "\n",
    "for i in range(1, 51):\n",
    "    exponential_sample = np.random.exponential((1/rate), sample_size)\n",
    "    col = f'sample {i}'\n",
    "    df2[col] = exponential_sample\n",
    "    \n",
    "# Taking a peek at the samples\n",
    "df2.head()   \n",
    "\n",
    "\n",
    "# Calculating sample means and plotting their distribution\n",
    "df2_sample_means = df2.mean()\n",
    "sns.distplot(df2_sample_means);\n",
    "\n",
    "# Random variabe == Normal Distribution {also the case not been equal}"
   ]
  }
 ],
 "metadata": {
  "kernelspec": {
   "display_name": "Python 3",
   "language": "python",
   "name": "python3"
  },
  "language_info": {
   "codemirror_mode": {
    "name": "ipython",
    "version": 3
   },
   "file_extension": ".py",
   "mimetype": "text/x-python",
   "name": "python",
   "nbconvert_exporter": "python",
   "pygments_lexer": "ipython3",
   "version": "3.8.5"
  }
 },
 "nbformat": 4,
 "nbformat_minor": 5
}
