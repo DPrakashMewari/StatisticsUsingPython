{
 "cells": [
  {
   "cell_type": "code",
   "execution_count": 2,
   "id": "565f669a",
   "metadata": {},
   "outputs": [],
   "source": [
    "# What is Correlation?\n",
    "# One variable will Depend on another variable\n",
    "\n",
    "#Positive Correlation: both variables change in the same direction.\n",
    "#Neutral Correlation: No relationship in the change of the variables.\n",
    "#Negative Correlation: variables change in opposite directions."
   ]
  },
  {
   "cell_type": "code",
   "execution_count": 27,
   "id": "55a5237d",
   "metadata": {},
   "outputs": [
    {
     "name": "stdout",
     "output_type": "stream",
     "text": [
      "data1: mean=100.208 stdv=20.317\n",
      "data2: mean=150.159 stdv=22.490\n"
     ]
    },
    {
     "data": {
      "image/png": "[encoded data removed]",
      "text/plain": [
       "<Figure size 432x288 with 1 Axes>"
      ]
     },
     "metadata": {
      "needs_background": "light"
     },
     "output_type": "display_data"
    }
   ],
   "source": [
    "# generate some variable:\n",
    "import numpy as np \n",
    "from numpy import mean,std,cov\n",
    "import matplotlib.pyplot as plt\n",
    "from numpy.random import randn\n",
    "\n",
    "data1  = 20 * randn(1000) + 100\n",
    "data2 = 10 * randn(1000) + data1 + 50\n",
    "# summarize\n",
    "print('data1: mean=%.3f stdv=%.3f' % (mean(data1), std(data1)))\n",
    "print('data2: mean=%.3f stdv=%.3f' % (mean(data2), std(data2)))\n",
    "\n",
    "# plot and check relation bw them \n",
    "plt.scatter(data1,data2)\n",
    "plt.show()\n",
    "# Now we see there is relation bw them"
   ]
  },
  {
   "cell_type": "code",
   "execution_count": 30,
   "id": "27cf7f02",
   "metadata": {},
   "outputs": [],
   "source": [
    "# Covariance = cov(X, Y) = (sum (x - mean(X)) * (y - mean(Y)) ) * 1/(n-1)"
   ]
  },
  {
   "cell_type": "code",
   "execution_count": 28,
   "id": "85cda760",
   "metadata": {},
   "outputs": [
    {
     "name": "stdout",
     "output_type": "stream",
     "text": [
      "[[413.19059787 409.48856085]\n",
      " [409.48856085 506.3214589 ]]\n"
     ]
    }
   ],
   "source": [
    "# Covariance can show us a strenght,Direction of relationship, here 0 indicates no relation completely independent\n",
    "# calculate covariance matrix\n",
    "covariance = cov(data1, data2)\n",
    "print(covariance)"
   ]
  },
  {
   "cell_type": "code",
   "execution_count": null,
   "id": "0db23253",
   "metadata": {},
   "outputs": [],
   "source": [
    "# Pearson Correlation : Show the strength   value range [-1,0,1]\n",
    "#Pearson's correlation coefficient = covariance(X, Y) / (stdv(X) * stdv(Y))"
   ]
  },
  {
   "cell_type": "code",
   "execution_count": 33,
   "id": "391e9083",
   "metadata": {},
   "outputs": [
    {
     "name": "stdout",
     "output_type": "stream",
     "text": [
      "Pearsons correlation: 0.895\n"
     ]
    }
   ],
   "source": [
    "from scipy.stats import pearsonr\n",
    "# calculate Pearson's correlation\n",
    "corr,_= pearsonr(data1, data2)\n",
    "print('Pearsons correlation: %.3f' % corr)"
   ]
  },
  {
   "cell_type": "code",
   "execution_count": 34,
   "id": "1c9f610c",
   "metadata": {},
   "outputs": [],
   "source": [
    "# Spearman's Correlation:\n",
    "# nstead of calculating the coefficient using\n",
    "#covariance and standard deviations on the\n",
    "#samples themselves, these statistics are calculated from \n",
    "#the relative rank of values on each sample\n",
    "# Spearman's correlation coefficient = covariance(rank(X), rank(Y)) / (stdv(rank(X)) * stdv(rank(Y)))"
   ]
  },
  {
   "cell_type": "code",
   "execution_count": 35,
   "id": "6fbf4707",
   "metadata": {},
   "outputs": [
    {
     "name": "stdout",
     "output_type": "stream",
     "text": [
      "Spearmans correlation: 0.891\n"
     ]
    }
   ],
   "source": [
    "from scipy.stats import spearmanr\n",
    "# calculate spearman's correlation\n",
    "corr, _ = spearmanr(data1, data2)\n",
    "print('Spearmans correlation: %.3f' % corr)"
   ]
  }
 ],
 "metadata": {
  "kernelspec": {
   "display_name": "Python 3",
   "language": "python",
   "name": "python3"
  },
  "language_info": {
   "codemirror_mode": {
    "name": "ipython",
    "version": 3
   },
   "file_extension": ".py",
   "mimetype": "text/x-python",
   "name": "python",
   "nbconvert_exporter": "python",
   "pygments_lexer": "ipython3",
   "version": "3.8.5"
  }
 },
 "nbformat": 4,
 "nbformat_minor": 5
}
