{
 "cells": [
  {
   "cell_type": "markdown",
   "id": "085bcf26",
   "metadata": {},
   "source": [
    "## Hypothesis Is Method For taking Assumption ,With the Help of Hypothesis\n",
    "we try to infer the results\n",
    "\n",
    "-For that we Define two condition :\n",
    "    \n",
    "-H0 : Assumption of the test hold and is failed to be rejected at some level of significance.\n",
    "-H1 : Assumption of the test does not Hold and is rejected at some level of significance\n",
    "*simply :    \n",
    "    \n",
    "*H0 : Everything is fine \n",
    "*H1 : Everythinh is not fine \n",
    "    \n",
    "*this fine compare with some significance with probality of fine \n",
    "\n",
    "-  Significance level : Can be 0.1,0.5,0.7 etc\n",
    "-  Pvalue : Which will compared with significance value\n",
    "\n",
    "- A result is significant when p value is less then alpha.\n",
    "\n",
    "- If p-value > alpha: Fail to reject the null hypothesis (i.e. not significant result).\n",
    "- If p-value <= alpha: Reject the null hypothesis (i.e. significant result).\n",
    "\n",
    "    \n",
    "    \n"
   ]
  },
  {
   "cell_type": "markdown",
   "id": "e529ea6b",
   "metadata": {},
   "source": [
    "# THere are many type of Statistical Hypothesis test:\n",
    "\n",
    "# Variable Distribution Test - It is normally distributed \n",
    "\n",
    "- Shapiro-Wilk Test\n",
    "- D’Agostino’s K^2 Test\n",
    "- Anderson-Darling Test\n",
    "# Variable Relationship Tests (correlation)\n",
    "- Pearson’s Correlation Coefficient\n",
    "- Spearman’s Rank Correlation\n",
    "- Kendall’s Rank Correlation\n",
    "- Chi-Squared Test\n",
    "# Compare Sample Means (parametric)\n",
    "- Student’s t-test\n",
    "- Paired Student’s t-test\n",
    "- Analysis of Variance Test (ANOVA)\n",
    "- Repeated Measures ANOVA Test\n",
    "# Compare Sample Means (nonparametric)\n",
    "- Mann-Whitney U Test\n",
    "- Wilcoxon Signed-Rank Test\n",
    "- Kruskal-Wallis H Test\n",
    "- Friedman Test"
   ]
  }
 ],
 "metadata": {
  "kernelspec": {
   "display_name": "Python 3",
   "language": "python",
   "name": "python3"
  },
  "language_info": {
   "codemirror_mode": {
    "name": "ipython",
    "version": 3
   },
   "file_extension": ".py",
   "mimetype": "text/x-python",
   "name": "python",
   "nbconvert_exporter": "python",
   "pygments_lexer": "ipython3",
   "version": "3.8.8"
  }
 },
 "nbformat": 4,
 "nbformat_minor": 5
}
