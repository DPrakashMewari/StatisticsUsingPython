{
 "cells": [
  {
   "cell_type": "markdown",
   "id": "c2605fc7",
   "metadata": {},
   "source": [
    "## Confidence Interval : Confidence Interval Calculates the probablity of Population Parameter will fall between an upper and lower interval.\n",
    "\n",
    "* In Simple way to measure How well a  Sample represents the population.\n",
    "\n",
    "-  Confidence Interval Percentage : 90,95,99"
   ]
  },
  {
   "cell_type": "markdown",
   "id": "51fada7f",
   "metadata": {},
   "source": [
    "# Two types of test Statistics : {For calc Confidence Interval}\n",
    "\n",
    "* Z statistics is used when data follows a normal Distribution,population std deviation is Know and the sample size is above 30. \n",
    "z-score=x−μ/σ\n",
    "\n",
    "* t statistics also know as student t distribution and used when data follows a normal Distribution Population Standard Deviation is Not Known, But here sample standard deviation is know or can be calculated. Sample size below 30.\n",
    "-score=x−μ/s/√n\n",
    " \n",
    "\n",
    "<i> If the sample sizes are larger than 30, the z-distribution and the t-distributions are pretty much the same and either one can be used. If the population standard deviation is available and the sample size is greater than 30, t-distribution can be used with the population standard deviation instead of the sample standard deviation. </i>"
   ]
  },
  {
   "cell_type": "code",
   "execution_count": 32,
   "id": "d8ac5316",
   "metadata": {},
   "outputs": [
    {
     "name": "stderr",
     "output_type": "stream",
     "text": [
      "/home/mewaris/.local/lib/python3.8/site-packages/seaborn/distributions.py:2557: FutureWarning: `distplot` is a deprecated function and will be removed in a future version. Please adapt your code to use either `displot` (a figure-level function with similar flexibility) or `kdeplot` (an axes-level function for kernel density plots).\n",
      "  warnings.warn(msg, FutureWarning)\n"
     ]
    },
    {
     "data": {
      "image/png": "[encoded data removed]",
      "text/plain": [
       "<Figure size 432x288 with 1 Axes>"
      ]
     },
     "metadata": {
      "needs_background": "light"
     },
     "output_type": "display_data"
    },
    {
     "name": "stdout",
     "output_type": "stream",
     "text": [
      "mean:\t\t\t247.7000\n",
      "standard deviation:\t36.1401\n",
      "standard error:\t\t8.2911\n"
     ]
    }
   ],
   "source": [
    "# Confidence Interval Using T score\n",
    "# Calculate\n",
    "#Sample Mean, \n",
    "#Standard Deviation - Sample \n",
    "#Standard Error:\n",
    "\n",
    "import pandas as pd  \n",
    "import numpy as np\n",
    "import scipy.stats as sm\n",
    "import matplotlib.pyplot as plt \n",
    "import seaborn as sns\n",
    "\n",
    "df = pd.read_csv('heart.csv')\n",
    "df.head()\n",
    "\n",
    "# Assumption :\n",
    "#sample size is 20 (<30)\n",
    "n = 20 \n",
    "df_sample  = df['chol'].sample(20)\n",
    "\n",
    "plt.title('Heart Disease UCI data distribution t-statistics, sample size = {}'.format(len(df_sample)))\n",
    "sns.distplot(df_sample,hist=False)\n",
    "plt.show()\n",
    "\n",
    "\n",
    "Mean=np.mean(df_sample)\n",
    "s = np.std(df_sample)\n",
    "SE = sm.sem(df_sample)\n",
    "\n",
    "\n",
    "print('mean:\\t\\t\\t{:.4f}'.format(Mean))\n",
    "print('standard deviation:\\t{:.4f}'.format(s))\n",
    "print('standard error:\\t\\t{:.4f}'.format(SE))\n",
    "\n"
   ]
  },
  {
   "cell_type": "code",
   "execution_count": 38,
   "id": "db899135",
   "metadata": {},
   "outputs": [
    {
     "name": "stdout",
     "output_type": "stream",
     "text": [
      "Calculate z-critical for Confidence Level 95% with 2 tails.\n",
      "Confidence Level: 0.95\n",
      "Number of Tails: 2\n",
      "Degrees of Freedom: 9\n",
      "alpha: 0.025000000000000022\n",
      "t-critical value:  <--- 2.6850108460045288\n",
      "-----\n",
      "Based on a sample of 20 patients, 95% of the patients in the Heart Disease UCI dataset will have cholesterol levels between 150.66332169366956 and 150.66332169366956.\n"
     ]
    }
   ],
   "source": [
    "confidencelevel = .95\n",
    "n = 10 \n",
    "ddof = n - 1\n",
    "numoftails = 2\n",
    "alpha = (1 - confidencelevel)/numoftails\n",
    "\n",
    "tcritical = abs(sm.t.ppf(alpha/numoftails,ddof))\n",
    "tcritical\n",
    "print('Calculate z-critical for Confidence Level {:.0%} with {} tails.'.format(confidencelevel,numoftails))\n",
    "\n",
    "print('Confidence Level:',confidencelevel)\n",
    "print('Number of Tails:',numoftails)\n",
    "print('Degrees of Freedom:',ddof)\n",
    "print('alpha:',alpha)\n",
    "print('t-critical value:  <---',tcritical)\n",
    "\n",
    "\n",
    "# Confidence Interval Formula\n",
    "lowerCI = Mean - (tcritical * s)\n",
    "upperCI = Mean - (tcritical * s)\n",
    "\n",
    "print(\"-\"*5)\n",
    "\n",
    "# Conclusion :\n",
    "print(\"Based on a sample of {} patients, {:.0%} of the patients in the Heart Disease UCI dataset will have cholesterol levels between {} and {}.\".format(len(df_sample),confidencelevel,\n",
    "lowerCI,upperCI))"
   ]
  }
 ],
 "metadata": {
  "kernelspec": {
   "display_name": "Python 3",
   "language": "python",
   "name": "python3"
  },
  "language_info": {
   "codemirror_mode": {
    "name": "ipython",
    "version": 3
   },
   "file_extension": ".py",
   "mimetype": "text/x-python",
   "name": "python",
   "nbconvert_exporter": "python",
   "pygments_lexer": "ipython3",
   "version": "3.8.8"
  }
 },
 "nbformat": 4,
 "nbformat_minor": 5
}
