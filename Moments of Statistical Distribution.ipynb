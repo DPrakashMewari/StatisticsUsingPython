{
 "cells": [
  {
   "cell_type": "raw",
   "id": "f294f21a",
   "metadata": {},
   "source": [
    "Moment of Statistics Distribution\n",
    "\n",
    "The Shape of any Distribution can be Described as Moments: \n",
    "    \n",
    "1. Mean which indicates central tendency of a Distribution\n",
    "2. Variance which indicates the variance,which indicates the width or deviation\n",
    "3. The third moment is a skewness, which indicates asymmetric learning to left or right.\n",
    "4. The forth moment is a kurtosis which indicates the degree of central peak ness or fatness is outer tails\n"
   ]
  },
  {
   "cell_type": "code",
   "execution_count": null,
   "id": "a7c78bf5",
   "metadata": {},
   "outputs": [],
   "source": [
    "Mean - Average value\n",
    "median - the mid point \n",
    "mode - most common "
   ]
  },
  {
   "cell_type": "code",
   "execution_count": 1,
   "id": "2f871c43",
   "metadata": {},
   "outputs": [],
   "source": [
    "speed = [99,86,87,88,111,86,103,87,94,78,77,85,86]"
   ]
  },
  {
   "cell_type": "code",
   "execution_count": 9,
   "id": "781b4ab8",
   "metadata": {},
   "outputs": [
    {
     "name": "stdout",
     "output_type": "stream",
     "text": [
      "89.76923076923077\n",
      "87.0\n",
      "ModeResult(mode=array([86]), count=array([3]))\n"
     ]
    }
   ],
   "source": [
    "# 1.\n",
    "import numpy as np \n",
    "print(np.mean(speed)) # Mean \n",
    "\n",
    "print(np.median(speed)) # median\n",
    "\n",
    "\n",
    "from scipy import stats\n",
    "print(stats.mode(speed))"
   ]
  },
  {
   "cell_type": "code",
   "execution_count": 12,
   "id": "5c9ebd7c",
   "metadata": {},
   "outputs": [
    {
     "name": "stdout",
     "output_type": "stream",
     "text": [
      "85.71597633136093\n",
      "9.258292301032677\n"
     ]
    }
   ],
   "source": [
    "# 2. \n",
    "\n",
    "x = np.var(speed)\n",
    "print(x)\n",
    "\n",
    "x1 = np.std(speed)\n",
    "print(x1)  # which square root of var both actually show width \n"
   ]
  },
  {
   "cell_type": "code",
   "execution_count": 18,
   "id": "752180f3",
   "metadata": {},
   "outputs": [
    {
     "data": {
      "text/plain": [
       "0.845105471183182"
      ]
     },
     "execution_count": 18,
     "metadata": {},
     "output_type": "execute_result"
    }
   ],
   "source": [
    "# 3. \n",
    "stats.skew(speed)\n",
    "\n"
   ]
  },
  {
   "cell_type": "code",
   "execution_count": 17,
   "id": "bbe13500",
   "metadata": {},
   "outputs": [
    {
     "data": {
      "text/plain": [
       "0.01965093187518896"
      ]
     },
     "execution_count": 17,
     "metadata": {},
     "output_type": "execute_result"
    }
   ],
   "source": [
    "# 4\n",
    "stats.kurtosis(speed)"
   ]
  }
 ],
 "metadata": {
  "kernelspec": {
   "display_name": "Python 3",
   "language": "python",
   "name": "python3"
  },
  "language_info": {
   "codemirror_mode": {
    "name": "ipython",
    "version": 3
   },
   "file_extension": ".py",
   "mimetype": "text/x-python",
   "name": "python",
   "nbconvert_exporter": "python",
   "pygments_lexer": "ipython3",
   "version": "3.8.5"
  }
 },
 "nbformat": 4,
 "nbformat_minor": 5
}
