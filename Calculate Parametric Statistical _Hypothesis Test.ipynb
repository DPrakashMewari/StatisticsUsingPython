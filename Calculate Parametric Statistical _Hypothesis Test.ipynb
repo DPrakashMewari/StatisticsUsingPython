{
 "cells": [
  {
   "cell_type": "code",
   "execution_count": null,
   "id": "7b52a784",
   "metadata": {},
   "outputs": [],
   "source": [
    "# Parametric Statistical test: For Comparing Sample Mean \n",
    "\n",
    "#Parametric statistical tests assume\n",
    "#that a data sample was drawn from a \n",
    "#specific population distribution.\n",
    "\n"
   ]
  },
  {
   "cell_type": "code",
   "execution_count": 1,
   "id": "0fad29cb",
   "metadata": {},
   "outputs": [],
   "source": [
    "# P value \n",
    "#The p-value can be interpreted in\n",
    "#the context of a chosen significance\n",
    "#level called alpha. A common value for alpha is 5%, \n",
    "#or 0.05. If the p-value is below the significance level, \n",
    "#then the test says there is enough evidence\n",
    "#to reject the null hypothesis and that the samples\n",
    "#were likely drawn from populations with differing \n",
    "#distributions.\n",
    "\n",
    "#p <= alpha: reject null hypothesis, different distribution.\n",
    "#p > alpha: fail to reject null hypothesis, same distribution.\n"
   ]
  },
  {
   "cell_type": "code",
   "execution_count": 2,
   "id": "298cf2b9",
   "metadata": {},
   "outputs": [
    {
     "name": "stdout",
     "output_type": "stream",
     "text": [
      "data1: mean=50.303 stdv=4.426\n",
      "data2: mean=51.764 stdv=4.660\n"
     ]
    }
   ],
   "source": [
    "# generate gaussian data samples\n",
    "from numpy.random import seed\n",
    "from numpy.random import randn\n",
    "from numpy import mean\n",
    "from numpy import std\n",
    "# seed the random number generator\n",
    "seed(1)\n",
    "# generate two sets of univariate observations\n",
    "data1 = 5 * randn(100) + 50\n",
    "data2 = 5 * randn(100) + 51\n",
    "# summarize\n",
    "print('data1: mean=%.3f stdv=%.3f' % (mean(data1), std(data1)))\n",
    "print('data2: mean=%.3f stdv=%.3f' % (mean(data2), std(data2)))\n"
   ]
  },
  {
   "cell_type": "code",
   "execution_count": 5,
   "id": "33957b54",
   "metadata": {},
   "outputs": [],
   "source": [
    "# Method 1: Student T-Test\n",
    "#One of the most commonly used t\n",
    "#tests is the independent samples t test.\n",
    "#You use this test when you want to compare the\n",
    "#means of two independent samples on a given variable.\n",
    "\n",
    "# We also take some assumption with that :\n",
    "\n",
    "# Assumption : \n",
    "# The assumption or null hypothesis of the test \n",
    "# is that the means of two populations are equal.\n",
    "# A rejection of this hypothesis indicates that there is sufficient \n",
    "# evidence that the means of the populations are different,\n",
    "# and in turn that the distributions are not equal.\n",
    "\n",
    "#* Fail to Reject H0: Sample distributions are equal.\n",
    "#* Reject H0: Sample distributions are not equal."
   ]
  },
  {
   "cell_type": "code",
   "execution_count": 3,
   "id": "4fd83bdb",
   "metadata": {},
   "outputs": [
    {
     "name": "stdout",
     "output_type": "stream",
     "text": [
      "Statistics=-2.262, p=0.025\n",
      "Different distributions (reject H0)\n"
     ]
    }
   ],
   "source": [
    "from scipy.stats import ttest_ind\n",
    "# compare samples\n",
    "stat, p = ttest_ind(data1, data2)\n",
    "print('Statistics=%.3f, p=%.3f' % (stat, p))\n",
    "# interpret\n",
    "alpha = 0.05\n",
    "if p > alpha:\n",
    "\tprint('Same distributions (fail to reject H0)')\n",
    "else:\n",
    "\tprint('Different distributions (reject H0)')\n"
   ]
  },
  {
   "cell_type": "code",
   "execution_count": null,
   "id": "b61f44e7",
   "metadata": {},
   "outputs": [],
   "source": [
    "# Paired Student T-test :\n",
    "# A dependent samples t test is also used to compare \n",
    "# two means on a single dependent variable.\n",
    "# Unlike the independent samples test, however, \n",
    "# a dependent samples t test is used to compare the means \n",
    "# of a single sample or of two matched or paired samples\n"
   ]
  },
  {
   "cell_type": "code",
   "execution_count": null,
   "id": "1b58ff8a",
   "metadata": {},
   "outputs": [],
   "source": []
  },
  {
   "cell_type": "code",
   "execution_count": null,
   "id": "50ffc83f",
   "metadata": {},
   "outputs": [],
   "source": []
  },
  {
   "cell_type": "code",
   "execution_count": null,
   "id": "aa7bcaa1",
   "metadata": {},
   "outputs": [],
   "source": []
  },
  {
   "cell_type": "code",
   "execution_count": null,
   "id": "8812f9d7",
   "metadata": {},
   "outputs": [],
   "source": []
  },
  {
   "cell_type": "code",
   "execution_count": null,
   "id": "6431b520",
   "metadata": {},
   "outputs": [],
   "source": []
  }
 ],
 "metadata": {
  "kernelspec": {
   "display_name": "Python 3",
   "language": "python",
   "name": "python3"
  },
  "language_info": {
   "codemirror_mode": {
    "name": "ipython",
    "version": 3
   },
   "file_extension": ".py",
   "mimetype": "text/x-python",
   "name": "python",
   "nbconvert_exporter": "python",
   "pygments_lexer": "ipython3",
   "version": "3.8.10"
  }
 },
 "nbformat": 4,
 "nbformat_minor": 5
}
