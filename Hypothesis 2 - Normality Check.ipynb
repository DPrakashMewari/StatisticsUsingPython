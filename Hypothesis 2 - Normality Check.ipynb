{
 "cells": [
  {
   "cell_type": "code",
   "execution_count": null,
   "id": "58891f2f",
   "metadata": {},
   "outputs": [],
   "source": [
    "# Normality Test : We always Check Our Data is It Gaussian Distribution or Not \n",
    "# There are two types of method \n",
    "\n",
    "IF DATA IS NORMALLY DISTRIBUTED :\n",
    "    USE PARAMETRIC METHOD\n",
    "ELSE:\n",
    "    USE NON PARAMETRIC METHOD"
   ]
  },
  {
   "cell_type": "code",
   "execution_count": null,
   "id": "4e275a15",
   "metadata": {},
   "outputs": [],
   "source": [
    "# Main area we Use to check Normality :\n",
    "#There are three main areas where you may need to make this evaluation of a data sample in a machine learning project; they are:\n",
    "\n",
    "Input data to the model in the case of fitting models.\n",
    "Model evaluation results in the case of model selection.\n",
    "Residual errors from model predictions in the case of regression."
   ]
  },
  {
   "cell_type": "code",
   "execution_count": null,
   "id": "fd9c6f3e",
   "metadata": {},
   "outputs": [],
   "source": [
    "# To check the data sample is Normally or Gaussian Distribution:\n",
    "\n",
    "# Graphical Ways Method \n",
    "# Statistical Method"
   ]
  },
  {
   "cell_type": "code",
   "execution_count": 1,
   "id": "136c3f6f",
   "metadata": {},
   "outputs": [
    {
     "name": "stdout",
     "output_type": "stream",
     "text": [
      "mean=50.303 stdv=4.426\n"
     ]
    }
   ],
   "source": [
    "# First we create test dataset:\n",
    "# generate gaussian data\n",
    "import numpy\n",
    "from numpy.random import seed\n",
    "from numpy.random import randn\n",
    "from numpy import mean\n",
    "from numpy import std\n",
    "# seed the random number generator\n",
    "seed(1)\n",
    "# generate univariate observations\n",
    "data = 5 * randn(100) + 50\n",
    "# summarize\n",
    "print('mean=%.3f stdv=%.3f' % (mean(data), std(data)))"
   ]
  },
  {
   "cell_type": "code",
   "execution_count": 2,
   "id": "f26cd30d",
   "metadata": {},
   "outputs": [
    {
     "data": {
      "image/png": "[encoded data removed]",
      "text/plain": [
       "<Figure size 432x288 with 1 Axes>"
      ]
     },
     "metadata": {
      "needs_background": "light"
     },
     "output_type": "display_data"
    }
   ],
   "source": [
    "# Graphical Method 1: Histogram\n",
    "\n",
    "# histogram plot\n",
    "import matplotlib \n",
    "from matplotlib import pyplot\n",
    "# generate univariate observations\n",
    "data = 5 * randn(100) + 50\n",
    "# histogram plot\n",
    "pyplot.hist(data)\n",
    "pyplot.show()"
   ]
  },
  {
   "cell_type": "code",
   "execution_count": 3,
   "id": "49634ef2",
   "metadata": {},
   "outputs": [
    {
     "name": "stderr",
     "output_type": "stream",
     "text": [
      "/home/mewaris/.local/lib/python3.8/site-packages/statsmodels/graphics/gofplots.py:993: UserWarning: marker is redundantly defined by the 'marker' keyword argument and the fmt string \"bo\" (-> marker='o'). The keyword argument will take precedence.\n",
      "  ax.plot(x, y, fmt, **plot_style)\n"
     ]
    },
    {
     "data": {
      "image/png": "[encoded data removed]",
      "text/plain": [
       "<Figure size 432x288 with 1 Axes>"
      ]
     },
     "metadata": {
      "needs_background": "light"
     },
     "output_type": "display_data"
    }
   ],
   "source": [
    "# Graphical Method 2 : Quantile Quantile Plot\n",
    "# QQ Plot\n",
    "from numpy.random import seed\n",
    "from numpy.random import randn\n",
    "from statsmodels.graphics.gofplots import qqplot\n",
    "from matplotlib import pyplot\n",
    "# seed the random number generator\n",
    "seed(1)\n",
    "# generate univariate observations\n",
    "data = 5 * randn(100) + 50\n",
    "# q-q plot\n",
    "qqplot(data, line='s')\n",
    "pyplot.show()\n"
   ]
  },
  {
   "cell_type": "code",
   "execution_count": null,
   "id": "070f72dc",
   "metadata": {},
   "outputs": [],
   "source": [
    "# Statistical Normality Test :\n",
    "#There are many statistical tests that we can use to quantify whether a \n",
    "#sample of data looks as though it was drawn from a Gaussian distribution.\n",
    "\n",
    "# Interpretion:\n",
    "you can apply the statistical tests, you must know how to interpret the results.\n",
    "\n",
    "Each test will return at least two things:\n",
    "\n",
    "#Statistic: A quantity calculated by the test that can be interpreted in the context \n",
    "#of the test via comparing it to critical values from the distribution of the test statistic.\n",
    "#p-value: Used to interpret the test, in this case whether the sample was drawn from a Gaussian distribution.\n",
    "\n",
    "\n",
    "# p <= alpha: reject H0, not normal.\n",
    "# p > alpha: fail to reject H0, normal."
   ]
  },
  {
   "cell_type": "code",
   "execution_count": 5,
   "id": "68febc0e",
   "metadata": {},
   "outputs": [
    {
     "name": "stdout",
     "output_type": "stream",
     "text": [
      "Statistics=0.992, p=0.822\n",
      "Sample looks Gaussian (fail to reject H0)\n"
     ]
    }
   ],
   "source": [
    "# Statistical Method 1 : Shapiro-Wilk Test : Drawn from Gaussian \n",
    "# Shapiro-Wilk Test\n",
    "from numpy.random import seed\n",
    "from numpy.random import randn\n",
    "from scipy.stats import shapiro\n",
    "# seed the random number generator\n",
    "seed(1)\n",
    "# generate univariate observations\n",
    "data = 5 * randn(100) + 50\n",
    "# normality test\n",
    "stat, p = shapiro(data)\n",
    "print('Statistics=%.3f, p=%.3f' % (stat, p))\n",
    "# interpret\n",
    "alpha = 0.05\n",
    "if p > alpha:\n",
    "    print('Sample looks Gaussian (fail to reject H0)')\n",
    "else:\n",
    "    print('Sample does not look Gaussian (reject H0)')\n",
    "\n",
    "    \n",
    "# The p-value is interested and finds that the data is likely drawn from a Gaussian distribution.\n"
   ]
  },
  {
   "cell_type": "code",
   "execution_count": 7,
   "id": "ba285427",
   "metadata": {},
   "outputs": [
    {
     "name": "stdout",
     "output_type": "stream",
     "text": [
      "Statistics=0.102, p=0.950\n",
      "Sample looks Gaussian (fail to reject H0)\n"
     ]
    }
   ],
   "source": [
    "# METHOD 2 :  D'Agostino :calculates summary statistics from the data, namely kurtosis and skewness, \n",
    "#to determine if the data distribution departs from the normal distribution,\n",
    "# D'Agostino and Pearson's Test\n",
    "from numpy.random import seed\n",
    "from numpy.random import randn\n",
    "from scipy.stats import normaltest\n",
    "# seed the random number generator\n",
    "seed(1)\n",
    "# generate univariate observations\n",
    "data = 5 * randn(100) + 50\n",
    "# normality test\n",
    "stat, p = normaltest(data)\n",
    "print('Statistics=%.3f, p=%.3f' % (stat, p))\n",
    "# interpret\n",
    "alpha = 0.05\n",
    "if p > alpha:\n",
    "    print('Sample looks Gaussian (fail to reject H0)')\n",
    "else:\n",
    "    print('Sample does not look Gaussian (reject H0)')"
   ]
  },
  {
   "cell_type": "code",
   "execution_count": 8,
   "id": "eb0a64de",
   "metadata": {},
   "outputs": [
    {
     "name": "stdout",
     "output_type": "stream",
     "text": [
      "Statistic: 0.220\n",
      "15.000: 0.555, data looks normal (fail to reject H0)\n",
      "10.000: 0.632, data looks normal (fail to reject H0)\n",
      "5.000: 0.759, data looks normal (fail to reject H0)\n",
      "2.500: 0.885, data looks normal (fail to reject H0)\n",
      "1.000: 1.053, data looks normal (fail to reject H0)\n"
     ]
    }
   ],
   "source": [
    "# Method 3 : Anderson-Darling Test : It is Kind of Non Parametric Approch , It Check one of Many data sample\n",
    "# A feature of the Anderson-Darling test is that it returns \n",
    "# a list of critical values rather than a single p-value. \n",
    "\n",
    "# Anderson-Darling Test\n",
    "from numpy.random import seed\n",
    "from numpy.random import randn\n",
    "from scipy.stats import anderson\n",
    "# seed the random number generator\n",
    "seed(1)\n",
    "# generate univariate observations\n",
    "data = 5 * randn(100) + 50\n",
    "# normality test\n",
    "result = anderson(data)\n",
    "print('Statistic: %.3f' % result.statistic)\n",
    "p = 0\n",
    "for i in range(len(result.critical_values)):\n",
    "\tsl, cv = result.significance_level[i], result.critical_values[i]\n",
    "\tif result.statistic < result.critical_values[i]:\n",
    "\t\tprint('%.3f: %.3f, data looks normal (fail to reject H0)' % (sl, cv))\n",
    "\telse:\n",
    "\t\tprint('%.3f: %.3f, data does not look normal (reject H0)' % (sl, cv))\n",
    "        \n",
    "        \n",
    "        \n",
    "# Instead of One single p value\n",
    "# It choose many critical value to check significance"
   ]
  },
  {
   "cell_type": "code",
   "execution_count": null,
   "id": "4993b86a",
   "metadata": {},
   "outputs": [],
   "source": [
    "# We Can Use: Both Parametric and  Non parametric to intrepret\n",
    "# We also know data not always normally distributed - Preprocessing , Recheck W"
   ]
  }
 ],
 "metadata": {
  "kernelspec": {
   "display_name": "Python 3",
   "language": "python",
   "name": "python3"
  },
  "language_info": {
   "codemirror_mode": {
    "name": "ipython",
    "version": 3
   },
   "file_extension": ".py",
   "mimetype": "text/x-python",
   "name": "python",
   "nbconvert_exporter": "python",
   "pygments_lexer": "ipython3",
   "version": "3.8.10"
  }
 },
 "nbformat": 4,
 "nbformat_minor": 5
}
