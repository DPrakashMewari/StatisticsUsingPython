{
 "cells": [
  {
   "cell_type": "code",
   "execution_count": 2,
   "id": "6b0c6798",
   "metadata": {},
   "outputs": [],
   "source": [
    "# We have three Emperical Rule\n",
    "\n",
    "# Probablity(Mean-Standard Deviation <= x <= Mean + Standard Deviation) belong 68\n",
    "# Probablity(Mean-2 Standard Deviation <= x <= Mean + 2 Standard Deviation) belong 95\n",
    "# Probablity(Mean-3 Standard Deviation <= x <= Mean + 3 Standard Deviation) belong 99.7"
   ]
  },
  {
   "cell_type": "code",
   "execution_count": 3,
   "id": "0e2b5977",
   "metadata": {},
   "outputs": [],
   "source": [
    "# If Our Random Variable Y not follows Gaussian Distribution\n",
    "# But how much Percentage of data points it follows "
   ]
  },
  {
   "cell_type": "code",
   "execution_count": null,
   "id": "6660b6ab",
   "metadata": {},
   "outputs": [],
   "source": [
    "# Chebyshev's Inequality:\n",
    "# says that the probability of a value (Y)\n",
    "# Probablity(mean - kstandard deviation < x < mean + kstandard deviation) > 1 - 1/k2\n",
    "# Here k specifies range means standard devition\n",
    "# if k = 2  {replace with k}\n",
    "# Probablity(mean - 2standard deviation < x < mean + 2standard deviation) > 1 - 1/2**2=75%\n",
    "# 75% will be that y beloning to the range 2 standard deviation\n",
    "# similar we can find for 3 standard deviation "
   ]
  },
  {
   "cell_type": "code",
   "execution_count": 4,
   "id": "8f247590",
   "metadata": {},
   "outputs": [],
   "source": [
    "# Let do in python :\n",
    "import numpy as np "
   ]
  },
  {
   "cell_type": "code",
   "execution_count": 5,
   "id": "959871e9",
   "metadata": {},
   "outputs": [],
   "source": [
    "def chebyshev_inequality(k):\n",
    "    return 1-1 / k**2"
   ]
  },
  {
   "cell_type": "code",
   "execution_count": 11,
   "id": "77eb32c5",
   "metadata": {},
   "outputs": [
    {
     "name": "stdout",
     "output_type": "stream",
     "text": [
      "Chebyshew Inequality Different K value {Which is Basically Std}\n",
      "Probablity(mean - 1.0standard deviation < x < mean + 1.0standard deviation) > 0.0\n",
      "Probablity(mean - 1.5standard deviation < x < mean + 1.5standard deviation) > 0.5555555555555556\n",
      "Probablity(mean - 2.0standard deviation < x < mean + 2.0standard deviation) > 0.75\n",
      "Probablity(mean - 2.5standard deviation < x < mean + 2.5standard deviation) > 0.84\n",
      "Probablity(mean - 3.0standard deviation < x < mean + 3.0standard deviation) > 0.8888888888888888\n",
      "Probablity(mean - 3.5standard deviation < x < mean + 3.5standard deviation) > 0.9183673469387755\n",
      "Probablity(mean - 4.0standard deviation < x < mean + 4.0standard deviation) > 0.9375\n",
      "Probablity(mean - 4.5standard deviation < x < mean + 4.5standard deviation) > 0.9506172839506173\n",
      "Probablity(mean - 5.0standard deviation < x < mean + 5.0standard deviation) > 0.96\n",
      "Probablity(mean - 5.5standard deviation < x < mean + 5.5standard deviation) > 0.9669421487603306\n",
      "Probablity(mean - 6.0standard deviation < x < mean + 6.0standard deviation) > 0.9722222222222222\n",
      "Probablity(mean - 6.5standard deviation < x < mean + 6.5standard deviation) > 0.9763313609467456\n",
      "Probablity(mean - 7.0standard deviation < x < mean + 7.0standard deviation) > 0.9795918367346939\n",
      "Probablity(mean - 7.5standard deviation < x < mean + 7.5standard deviation) > 0.9822222222222222\n",
      "Probablity(mean - 8.0standard deviation < x < mean + 8.0standard deviation) > 0.984375\n",
      "Probablity(mean - 8.5standard deviation < x < mean + 8.5standard deviation) > 0.986159169550173\n",
      "Probablity(mean - 9.0standard deviation < x < mean + 9.0standard deviation) > 0.9876543209876543\n",
      "Probablity(mean - 9.5standard deviation < x < mean + 9.5standard deviation) > 0.9889196675900277\n"
     ]
    }
   ],
   "source": [
    "# Try K with different how much percentage it covers\n",
    "k = np.arange(1,10,0.5)\n",
    "prob = np.zeros(len(k))\n",
    "print(\"Chebyshew Inequality Different K value {Which is Basically Std}\")\n",
    "for i in range(len(k)):\n",
    "    prob[i] = chebyshev_inequality(k[i])\n",
    "    print(f\"Probablity(mean - {k[i]}standard deviation < x < mean + {k[i]}standard deviation) > {prob[i]}\")"
   ]
  },
  {
   "cell_type": "code",
   "execution_count": null,
   "id": "b9180150",
   "metadata": {},
   "outputs": [],
   "source": []
  },
  {
   "cell_type": "code",
   "execution_count": null,
   "id": "c754c1b5",
   "metadata": {},
   "outputs": [],
   "source": []
  },
  {
   "cell_type": "code",
   "execution_count": null,
   "id": "f41c8172",
   "metadata": {},
   "outputs": [],
   "source": []
  }
 ],
 "metadata": {
  "kernelspec": {
   "display_name": "Python 3",
   "language": "python",
   "name": "python3"
  },
  "language_info": {
   "codemirror_mode": {
    "name": "ipython",
    "version": 3
   },
   "file_extension": ".py",
   "mimetype": "text/x-python",
   "name": "python",
   "nbconvert_exporter": "python",
   "pygments_lexer": "ipython3",
   "version": "3.8.5"
  }
 },
 "nbformat": 4,
 "nbformat_minor": 5
}
