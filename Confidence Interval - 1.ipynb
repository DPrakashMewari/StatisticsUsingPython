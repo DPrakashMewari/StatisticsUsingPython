{
 "cells": [
  {
   "cell_type": "markdown",
   "id": "c2605fc7",
   "metadata": {},
   "source": [
    "## Confidence Interval : Confidence Interval Calculates the probablity of Population Parameter will fall between an upper and lower interval.\n",
    "\n",
    "* In Simple way to measure How well a  Sample represents the population.\n",
    "\n",
    "-  Confidence Interval Percentage : 90,95,99"
   ]
  },
  {
   "cell_type": "markdown",
   "id": "51fada7f",
   "metadata": {},
   "source": [
    "# Two types of test Statistics : {For calc Confidence Interval}\n",
    "\n",
    "* Z statistics is used when data follows a normal Distribution,population std deviation is Know and the sample size is above 30. \n",
    "z-score=x−μ/σ\n",
    "\n",
    "* t statistics also know as student t distribution and used when data follows a normal Distribution Population Standard Deviation is Not Known, But here sample standard deviation is know or can be calculated. Sample size below 30.\n",
    "-score=x−μ/s/√n\n",
    " \n",
    "\n",
    "<i> If the sample sizes are larger than 30, the z-distribution and the t-distributions are pretty much the same and either one can be used. If the population standard deviation is available and the sample size is greater than 30, t-distribution can be used with the population standard deviation instead of the sample standard deviation. </i>"
   ]
  },
  {
   "cell_type": "code",
   "execution_count": 38,
   "id": "f5cad9ce",
   "metadata": {},
   "outputs": [
    {
     "name": "stdout",
     "output_type": "stream",
     "text": [
      "Mean : 246.26402640264027\n",
      "Standard deviation : 51.74515101045714\n",
      "Standard Error 2.97759884433717\n",
      "Z critical value 1.959963984540054\n",
      "-----\n",
      "Lower CI 144.84539404755787\n",
      "Upper CI 347.68265875772266\n",
      "--\n",
      "0.95 of the total patients in the Heart Disease UCI dataset will have cholesterol levels between 144.84539404755787 and 347.68265875772266\n"
     ]
    },
    {
     "data": {
      "image/png": "[encoded data removed]",
      "text/plain": [
       "<Figure size 432x288 with 1 Axes>"
      ]
     },
     "metadata": {
      "needs_background": "light"
     },
     "output_type": "display_data"
    }
   ],
   "source": [
    "# Z statistic \n",
    "import pandas as pd \n",
    "import scipy.stats as sm\n",
    "import numpy as np\n",
    "import seaborn as sns\n",
    "\n",
    "\n",
    "df = pd.read_csv(\"heart.csv\")\n",
    "df.head()\n",
    "\n",
    "# Calculate Mean \n",
    "# Calculate Standard Deviation \n",
    "# Calculate Standard error\n",
    "Mean =np.mean(df['chol'])\n",
    "Sigma =np.std(df['chol'])\n",
    "Se = sm.sem(df['chol'])\n",
    "\n",
    "print(\"Mean :\",Mean)\n",
    "print(\"Standard deviation :\",Std)\n",
    "print(\"Standard Error\",Se)\n",
    "\n",
    "\n",
    "\n",
    "# Now Find Critical Value : On Z table It will Easily Find by this Function \n",
    "# Specify some variable before that\n",
    "confidencelevel = .95\n",
    "numoftails = 2\n",
    "alpha = (1 - confidencelevel)/numoftails\n",
    "\n",
    "zcritical = sm.norm.ppf(1-alpha)\n",
    "print(\"Z critical value\",zcritical)\n",
    "\n",
    "# Calculate lower and upper CI\n",
    "lowerCI = Mean - (zcritical * Sigma)\n",
    "upperCI = Mean + (zcritical * Sigma)\n",
    "\n",
    "print(\"-----\")\n",
    "print(\"Lower CI\",lowerCI)\n",
    "print(\"Upper CI\",upperCI)\n",
    "\n",
    "\n",
    "# \n",
    "sns.kdeplot(df['chol'])\n",
    "\n",
    "print(\"--\")\n",
    "\n",
    "# \n",
    "# Conclusion\n",
    "print(\"{} of the total patients in the Heart Disease UCI dataset will have cholesterol levels between {} and {}\".format(confidencelevel,lowerCI,upperCI))"
   ]
  }
 ],
 "metadata": {
  "kernelspec": {
   "display_name": "Python 3",
   "language": "python",
   "name": "python3"
  },
  "language_info": {
   "codemirror_mode": {
    "name": "ipython",
    "version": 3
   },
   "file_extension": ".py",
   "mimetype": "text/x-python",
   "name": "python",
   "nbconvert_exporter": "python",
   "pygments_lexer": "ipython3",
   "version": "3.8.8"
  }
 },
 "nbformat": 4,
 "nbformat_minor": 5
}
